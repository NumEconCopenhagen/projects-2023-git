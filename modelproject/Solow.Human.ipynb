{
 "cells": [
  {
   "attachments": {},
   "cell_type": "markdown",
   "metadata": {},
   "source": [
    "# Solow Model"
   ]
  },
  {
   "attachments": {},
   "cell_type": "markdown",
   "metadata": {},
   "source": [
    "The Solow model is an exogenous growth model used for analyzing GDP. In the Solow model, it is the supply side that determines the level of output, which stems from capital, techonology and labour. We assume that all the population is working, the economy is closed and time is discrete. \n",
    "In the production function we assume constant return to scale, positive but decreasing marginal products for capital and labour and positive cross derivatives."
   ]
  },
  {
   "attachments": {},
   "cell_type": "markdown",
   "metadata": {},
   "source": [
    "**Model Setup**\n",
    "\n",
    "$Y_t$: Total output \n",
    "\n",
    "$L_t$: Labour\n",
    "\n",
    "$K_t$: Physical capital \n",
    "\n",
    "$A_t$: Technology \n",
    "\n",
    "$S_t$: Total savings \n",
    "\n",
    "$\\alpha$: Share of output coming from capital\n",
    "\n",
    "$\\gamma$: Depreciation rate \n",
    "\n",
    "$g$: Technological growth\n",
    "\n",
    "$n$: Population growth\n",
    "\n",
    "$s$: Savings rate\n"
   ]
  },
  {
   "attachments": {},
   "cell_type": "markdown",
   "metadata": {},
   "source": [
    "**Import Packages**"
   ]
  },
  {
   "cell_type": "code",
   "execution_count": 17,
   "metadata": {},
   "outputs": [],
   "source": [
    "import numpy as np\n",
    "from scipy import optimize\n",
    "from scipy.optimize import root\n",
    "import sympy as sm\n",
    "from scipy.optimize import root_scalar\n",
    "from sympy.solvers import solve\n",
    "import matplotlib.pyplot as plt \n",
    "\n",
    "# autoreload modules when code is run\n",
    "%load_ext autoreload\n",
    "%autoreload 2"
   ]
  },
  {
   "attachments": {},
   "cell_type": "markdown",
   "metadata": {},
   "source": [
    "**Standard Solow Model with technological growth**"
   ]
  },
  {
   "attachments": {},
   "cell_type": "markdown",
   "metadata": {},
   "source": [
    "In the standard Solow we consider the following variables:  \n",
    "\n",
    "1. $K_t$ is physical capital\n",
    "2. $L_t$ is labour \n",
    "3. $A_t$ is technology \n",
    "4. $Y_t = F(K_t,A_tL_t)$ is GDP\n",
    "5. $S_t$ is savings"
   ]
  },
  {
   "attachments": {},
   "cell_type": "markdown",
   "metadata": {},
   "source": [
    "*We define GDP with a Cobb-Douglas function* \n",
    " \n",
    "$$ Y_t = K_t^\\alpha (A_t L_t)^{1-\\alpha}, \\quad 0 < \\alpha < 1 $$\n",
    "\n",
    "*Savings is a constant fraction of GDP*\n",
    "\n",
    "$$ S_t = sY_t, \\quad 0 < s < 1 $$\n",
    "\n",
    "*Accumulation of technology* \n",
    "\n",
    "$$ A_{t+1} = (1+g)A_t, \\quad \\text{where } A_0 \\text{ is given.} $$\n",
    "\n",
    "*Accumulation of labour* \n",
    "\n",
    "$$ L_{t+1} = (1+n)L_t, \\quad \\text{where } L_0 \\text { is given.} $$\n",
    "\n",
    "*Accumulation of physical capital* \n",
    "\n",
    "$$ K_{t+1} = S_t + (1 - \\delta) K_t, \\quad 0 < \\delta < 1, \\quad \\text{where } K_0 \\text{ is given.} $$\n",
    "\n",
    "*Capital pr. effective worker*\n",
    "\n",
    "$$ \\tilde{k}_t = \\frac{K_t}{A_{t}L_{t}} = \\frac{k_t}{A_t}$$\n",
    "\n",
    "*GDP pr. effective worker*\n",
    "\n",
    "$$ \\tilde{y}_t = \\frac{Y_t}{A_{t}L_{t}} = \\frac{y_t}{A_t}$$\n",
    "\n",
    "*Transition equation*\n",
    "\n",
    "$$ \\tilde{k}_{t+1}= \\frac{1}{(1+n)(1+g)}[s\\tilde{k}_{t}^{\\alpha}+(1-\\delta)\\tilde{k}_{t}] $$\n",
    "\n",
    "\n"
   ]
  },
  {
   "attachments": {},
   "cell_type": "markdown",
   "metadata": {},
   "source": [
    "# Analytical solution of the standard Solow Model"
   ]
  },
  {
   "cell_type": "code",
   "execution_count": 2,
   "metadata": {},
   "outputs": [],
   "source": [
    "# We define our variables and symbols \n",
    "k = sm.symbols('k')\n",
    "alpha = sm.symbols('alpha')\n",
    "delta = sm.symbols('delta')\n",
    "s = sm.symbols('s')\n",
    "g = sm.symbols('g')\n",
    "n = sm.symbols('n')\n",
    "y = sm.symbols('y')\n",
    "A = sm.symbols('A')\n",
    "kstar = sm.symbols('k^*')\n",
    "ystar = sm.symbols('y^*')\n"
   ]
  },
  {
   "cell_type": "code",
   "execution_count": 3,
   "metadata": {},
   "outputs": [
    {
     "data": {
      "text/latex": [
       "$\\displaystyle k^{*} = \\left(\\frac{\\delta + g n + g + n}{s}\\right)^{\\frac{1}{\\alpha - 1}}$"
      ],
      "text/plain": [
       "Eq(k^*, ((delta + g*n + g + n)/s)**(1/(alpha - 1)))"
      ]
     },
     "execution_count": 3,
     "metadata": {},
     "output_type": "execute_result"
    }
   ],
   "source": [
    "# Solving the steady state for k\n",
    "ss = sm.Eq(k, (s*k**alpha+(1-delta)*k)/((1+n)*(1+g)))\n",
    "kss = sm.solve(ss,k)[0]\n",
    "sm.Eq(kstar,kss)"
   ]
  },
  {
   "cell_type": "code",
   "execution_count": 4,
   "metadata": {},
   "outputs": [
    {
     "data": {
      "text/latex": [
       "$\\displaystyle y^{*} = \\left(\\left(\\frac{\\delta + g n + g + n}{s}\\right)^{\\frac{1}{\\alpha - 1}}\\right)^{\\alpha}$"
      ],
      "text/plain": [
       "Eq(y^*, (((delta + g*n + g + n)/s)**(1/(alpha - 1)))**alpha)"
      ]
     },
     "execution_count": 4,
     "metadata": {},
     "output_type": "execute_result"
    }
   ],
   "source": [
    "# Solving the steady state for y\n",
    "yss = kss**alpha\n",
    "sm.Eq(ystar,kss**alpha)\n"
   ]
  },
  {
   "cell_type": "code",
   "execution_count": 5,
   "metadata": {},
   "outputs": [
    {
     "name": "stdout",
     "output_type": "stream",
     "text": [
      "k^* = 1.904\n"
     ]
    }
   ],
   "source": [
    "# Turning the solution into a Python function for k\n",
    "kss_p = sm.lambdify((s,g,n,delta,alpha), kss)\n",
    "kss2 = kss_p(0.2,0.02,0.01,0.1,1/3) # These values are taken from Problem Set 6\n",
    "print(f'k^* = {kss2:.3f}')"
   ]
  },
  {
   "cell_type": "code",
   "execution_count": 6,
   "metadata": {},
   "outputs": [
    {
     "name": "stdout",
     "output_type": "stream",
     "text": [
      "y^* = 1.239\n"
     ]
    }
   ],
   "source": [
    "# Turning the solution into a Python function for y\n",
    "yss_p = sm.lambdify((s,g,n,delta,alpha), yss)\n",
    "yss2 = yss_p(0.2,0.02,0.01,0.1,1/3)\n",
    "print(f'y^* = {yss2:.3f}')"
   ]
  },
  {
   "attachments": {},
   "cell_type": "markdown",
   "metadata": {},
   "source": [
    "# Numerical Solution"
   ]
  },
  {
   "cell_type": "code",
   "execution_count": 7,
   "metadata": {},
   "outputs": [
    {
     "name": "stdout",
     "output_type": "stream",
     "text": [
      "The steady state for k is 1.904\n"
     ]
    }
   ],
   "source": [
    "# Define the parameter values as used above \n",
    "s, g, n, delta, alpha = 0.2, 0.02, 0.01, 0.1, 1/3\n",
    "\n",
    "# Define objective function\n",
    "f = lambda k: k**alpha\n",
    "obj_kss = lambda kss: kss - (s*f(kss) + (1-delta)*kss)/((1+g)*(1+n))\n",
    "\n",
    "# Find steady state numerically for k using root-finding with `optimize.root_scalar`.\n",
    "result = optimize.root_scalar(obj_kss, bracket=[0.1, 100], method='brentq')\n",
    "kss = result.root\n",
    "\n",
    "# Print result\n",
    "print(f\"The steady state for k is {kss:.3f}\")"
   ]
  },
  {
   "cell_type": "code",
   "execution_count": 8,
   "metadata": {},
   "outputs": [
    {
     "name": "stdout",
     "output_type": "stream",
     "text": [
      "The steady state for y is 1.239\n"
     ]
    }
   ],
   "source": [
    "# Compute steady state for y based on the code above\n",
    "yss = kss ** alpha\n",
    "\n",
    "# Print result\n",
    "print(f\"The steady state for y is {yss:.3f}\")"
   ]
  },
  {
   "attachments": {},
   "cell_type": "markdown",
   "metadata": {},
   "source": [
    "# Solow Model with human capital"
   ]
  },
  {
   "attachments": {},
   "cell_type": "markdown",
   "metadata": {},
   "source": [
    "**Solow model with human capital**\n",
    "\n",
    "Now we expand the standard model to include human capital. Human capital is abilities attached to each worker, which is associated with productivity. This e.g. education, experience, health, IQ, personality and so forth. From macro courses we know that including human capital in this expanded Solow model, can be seen as an expansion of capital, which is now constituted by both physcial and human capital.\n",
    "In the model there are constant return to scale for H, K and L, as well as positive but decreasing marginal product in the same variables."
   ]
  },
  {
   "attachments": {},
   "cell_type": "markdown",
   "metadata": {},
   "source": [
    "**New variables in the model**\n",
    "\n",
    "$H_t$: Human capital\n",
    "\n",
    "$\\phi$: Share of output attributed to human capital\n",
    "\n",
    "$s_K$: Fraction of saving in physical capital \n",
    "\n",
    "$s_H$: Fraction of saving in human capital"
   ]
  },
  {
   "attachments": {},
   "cell_type": "markdown",
   "metadata": {},
   "source": [
    "In the Solow model with human capital we consider the following variables:  \n",
    "\n",
    "1. $K_t$ is physical capital\n",
    "2. $L_t$ is labour \n",
    "3. $A_t$ is technology \n",
    "4. $Y_t = F(K_t,H_t,A_tL_t)$ is GDP\n",
    "5. $S_t$ is savings\n",
    "6. $H_t$ is human capital"
   ]
  },
  {
   "attachments": {},
   "cell_type": "markdown",
   "metadata": {},
   "source": [
    "*We define GDP with a Cobb-Douglas function* \n",
    " \n",
    "$$ Y_t=K_{t}^{\\alpha}H_{t}^{\\phi}(A_{t}L_{t})^{1-\\alpha-\\phi}, \\quad  0 < {\\alpha} < 1, \\quad 0 < {\\phi} < 1 $$\n",
    "\n",
    "*Savings is now split into savings in physical capital and savings in human capital*\n",
    "\n",
    "$$ S_t = (s_K+s_H)Y_t, \\quad s_H + s_K < 1 $$\n",
    "\n",
    "*Accumulation of technology* \n",
    "\n",
    "$$ A_{t+1} = (1+g)A_t, \\quad \\text{where } A_0 \\text{ is given.} $$\n",
    "\n",
    "*Accumulation of labour* \n",
    "\n",
    "$$ L_{t+1} = (1+n)L_t, \\quad \\text{where } L_0 \\text{ is given.} $$\n",
    "\n",
    "*Accumulation of physical capital* \n",
    "\n",
    "$$ K_{t+1} = s_KY_t+(1-\\delta)K_t, \\quad   0 < {\\delta} < 1 , \\quad \\text{where } K_0 \\text{ is given.}$$\n",
    "\n",
    "*Accumulation of human capital* \n",
    "\n",
    "$$ H_{t+1} = s_HY_t+(1-\\delta)H_t, \\quad  0 < {\\delta} < 1 , \\quad \\text{where } H_0 \\text{ is given.}$$\n",
    "\n",
    "*Physical capital pr. effective worker*\n",
    "\n",
    "$$ \\tilde{k}_t = \\frac{K_t}{A_{t}L_{t}} = \\frac{k_t}{A_t}$$\n",
    "\n",
    "*GDP pr. effective worker*\n",
    "\n",
    "$$ \\tilde{y}_t = \\frac{Y_t}{A_{t}L_{t}} = \\frac{y_t}{A_t}$$\n",
    "\n",
    "*Human capital pr. effective worker*\n",
    "\n",
    "$$ \\tilde{h}_t = \\frac{H_t}{A_{t}L_{t}} = \\frac{h_t}{A_t}$$\n",
    "\n",
    "*Transition equation physical capital*\n",
    "\n",
    "$$ \\tilde{k}_{t+1}= \\frac{s_K\\tilde{k}_{t}^{\\alpha}\\tilde{h}_{t}^{\\phi}+(1-\\delta)\\tilde{k}_{t}}{(1+n)(1+g)} $$\n",
    "\n",
    "*Transition equation human capital*\n",
    "\n",
    "$$\\tilde{h}_{t+1}= \\frac{s_H\\tilde{k}_{t}^{\\alpha}\\tilde{h}_{t}^{\\phi}+(1-\\delta)\\tilde{h}_{t}}{(1+n)(1+g)} $$\n",
    "\n",
    "*Solow equation for physical capital*\n",
    "\n",
    "$$ \\tilde{k}_{t+1}-\\tilde{k} = \\frac{s_K\\tilde{k}_{t}^{\\alpha}\\tilde{h}_{t}^{\\phi}-(n+g+\\delta+ng)\\tilde{k}_{t}}{(1+n)(1+g)} $$\n",
    "\n",
    "*Solow equation for human capital*\n",
    "\n",
    "$$ \\tilde{h}_{t+1}-\\tilde{h} = \\frac{s_H\\tilde{k}_{t}^{\\alpha}\\tilde{h}_{t}^{\\phi}-(n+g+\\delta+ng)\\tilde{h}_{t}}{(1+n)(1+g)} $$\n",
    "\n",
    "*In steady state we know that $\\tilde{k}_{t+1}=\\tilde{k_t}=\\tilde{k^*}$ and $\\tilde{h}_{t+1}=\\tilde{h_t}=\\tilde{h^*}$ which implies that the left hand side of the two Solow equations equals zero*\n"
   ]
  },
  {
   "attachments": {},
   "cell_type": "markdown",
   "metadata": {},
   "source": [
    "# Analytical solution of the Solow model with human capital"
   ]
  },
  {
   "attachments": {},
   "cell_type": "markdown",
   "metadata": {},
   "source": [
    "**BY RUNNING THE CODE BELOW, THE OTHER CODES WANT WORK. FOR THAT REASON, EITHER DON'T RUN THIS CODE, OR YOU HAVE TO RUN ALL THE CODE ABOVE ONE MORE TIME, AND THEN SKIP THIS CODE**"
   ]
  },
  {
   "cell_type": "code",
   "execution_count": 10,
   "metadata": {},
   "outputs": [
    {
     "ename": "NotImplementedError",
     "evalue": "could not solve k*(g + 1)*(n + 1) + k*(delta + g*n + g + n) - k**alpha*sk*(((delta + 2*g*n + 2*g + 2*n + 1)/(k**alpha*sh))**(1/(phi - 1)))**phi",
     "output_type": "error",
     "traceback": [
      "\u001b[0;31m---------------------------------------------------------------------------\u001b[0m",
      "\u001b[0;31mNotImplementedError\u001b[0m                       Traceback (most recent call last)",
      "\u001b[0;32m/var/folders/tr/r80xfl3j0_j5bsdrblc1w4v80000gn/T/ipykernel_36737/2183819920.py\u001b[0m in \u001b[0;36m<module>\u001b[0;34m\u001b[0m\n\u001b[1;32m     16\u001b[0m \u001b[0;34m\u001b[0m\u001b[0m\n\u001b[1;32m     17\u001b[0m \u001b[0;31m#Solving the steady state equations for k and h\u001b[0m\u001b[0;34m\u001b[0m\u001b[0;34m\u001b[0m\u001b[0m\n\u001b[0;32m---> 18\u001b[0;31m \u001b[0msteady\u001b[0m \u001b[0;34m=\u001b[0m \u001b[0msm\u001b[0m\u001b[0;34m.\u001b[0m\u001b[0msolve\u001b[0m\u001b[0;34m(\u001b[0m\u001b[0;34m(\u001b[0m\u001b[0msshk\u001b[0m\u001b[0;34m,\u001b[0m\u001b[0msshh\u001b[0m\u001b[0;34m)\u001b[0m\u001b[0;34m,\u001b[0m\u001b[0;34m(\u001b[0m\u001b[0mk\u001b[0m\u001b[0;34m,\u001b[0m\u001b[0mh\u001b[0m\u001b[0;34m)\u001b[0m\u001b[0;34m)\u001b[0m\u001b[0;34m[\u001b[0m\u001b[0;36m0\u001b[0m\u001b[0;34m]\u001b[0m\u001b[0;34m\u001b[0m\u001b[0;34m\u001b[0m\u001b[0m\n\u001b[0m\u001b[1;32m     19\u001b[0m \u001b[0mdisplay\u001b[0m\u001b[0;34m(\u001b[0m\u001b[0msteady\u001b[0m\u001b[0;34m)\u001b[0m\u001b[0;34m\u001b[0m\u001b[0;34m\u001b[0m\u001b[0m\n\u001b[1;32m     20\u001b[0m \u001b[0;34m\u001b[0m\u001b[0m\n",
      "\u001b[0;32m~/opt/anaconda3/lib/python3.9/site-packages/sympy/solvers/solvers.py\u001b[0m in \u001b[0;36msolve\u001b[0;34m(f, *symbols, **flags)\u001b[0m\n\u001b[1;32m   1106\u001b[0m         \u001b[0msolution\u001b[0m \u001b[0;34m=\u001b[0m \u001b[0m_solve\u001b[0m\u001b[0;34m(\u001b[0m\u001b[0mf\u001b[0m\u001b[0;34m[\u001b[0m\u001b[0;36m0\u001b[0m\u001b[0;34m]\u001b[0m\u001b[0;34m,\u001b[0m \u001b[0;34m*\u001b[0m\u001b[0msymbols\u001b[0m\u001b[0;34m,\u001b[0m \u001b[0;34m**\u001b[0m\u001b[0mflags\u001b[0m\u001b[0;34m)\u001b[0m\u001b[0;34m\u001b[0m\u001b[0;34m\u001b[0m\u001b[0m\n\u001b[1;32m   1107\u001b[0m     \u001b[0;32melse\u001b[0m\u001b[0;34m:\u001b[0m\u001b[0;34m\u001b[0m\u001b[0;34m\u001b[0m\u001b[0m\n\u001b[0;32m-> 1108\u001b[0;31m         \u001b[0msolution\u001b[0m \u001b[0;34m=\u001b[0m \u001b[0m_solve_system\u001b[0m\u001b[0;34m(\u001b[0m\u001b[0mf\u001b[0m\u001b[0;34m,\u001b[0m \u001b[0msymbols\u001b[0m\u001b[0;34m,\u001b[0m \u001b[0;34m**\u001b[0m\u001b[0mflags\u001b[0m\u001b[0;34m)\u001b[0m\u001b[0;34m\u001b[0m\u001b[0;34m\u001b[0m\u001b[0m\n\u001b[0m\u001b[1;32m   1109\u001b[0m \u001b[0;34m\u001b[0m\u001b[0m\n\u001b[1;32m   1110\u001b[0m     \u001b[0;31m#\u001b[0m\u001b[0;34m\u001b[0m\u001b[0;34m\u001b[0m\u001b[0m\n",
      "\u001b[0;32m~/opt/anaconda3/lib/python3.9/site-packages/sympy/solvers/solvers.py\u001b[0m in \u001b[0;36m_solve_system\u001b[0;34m(exprs, symbols, **flags)\u001b[0m\n\u001b[1;32m   1970\u001b[0m                     \u001b[0mgot_s\u001b[0m\u001b[0;34m.\u001b[0m\u001b[0madd\u001b[0m\u001b[0;34m(\u001b[0m\u001b[0ms\u001b[0m\u001b[0;34m)\u001b[0m\u001b[0;34m\u001b[0m\u001b[0;34m\u001b[0m\u001b[0m\n\u001b[1;32m   1971\u001b[0m                 \u001b[0;32mif\u001b[0m \u001b[0;32mnot\u001b[0m \u001b[0mhit\u001b[0m\u001b[0;34m:\u001b[0m\u001b[0;34m\u001b[0m\u001b[0;34m\u001b[0m\u001b[0m\n\u001b[0;32m-> 1972\u001b[0;31m                     \u001b[0;32mraise\u001b[0m \u001b[0mNotImplementedError\u001b[0m\u001b[0;34m(\u001b[0m\u001b[0;34m'could not solve %s'\u001b[0m \u001b[0;34m%\u001b[0m \u001b[0meq2\u001b[0m\u001b[0;34m)\u001b[0m\u001b[0;34m\u001b[0m\u001b[0;34m\u001b[0m\u001b[0m\n\u001b[0m\u001b[1;32m   1973\u001b[0m             \u001b[0;32melse\u001b[0m\u001b[0;34m:\u001b[0m\u001b[0;34m\u001b[0m\u001b[0;34m\u001b[0m\u001b[0m\n\u001b[1;32m   1974\u001b[0m                 \u001b[0mresult\u001b[0m \u001b[0;34m=\u001b[0m \u001b[0mnewresult\u001b[0m\u001b[0;34m\u001b[0m\u001b[0;34m\u001b[0m\u001b[0m\n",
      "\u001b[0;31mNotImplementedError\u001b[0m: could not solve k*(g + 1)*(n + 1) + k*(delta + g*n + g + n) - k**alpha*sk*(((delta + 2*g*n + 2*g + 2*n + 1)/(k**alpha*sh))**(1/(phi - 1)))**phi"
     ]
    }
   ],
   "source": [
    "# We define our variables and symbols \n",
    "k = sm.symbols('k')\n",
    "alpha = sm.symbols('alpha')\n",
    "delta = sm.symbols('delta')\n",
    "g = sm.symbols('g')\n",
    "n = sm.symbols('n')\n",
    "y = sm.symbols('y')\n",
    "h = sm.symbols('h')\n",
    "sk = sm.symbols('sk')\n",
    "sh = sm.symbols('sh')\n",
    "phi = sm.symbols('phi')\n",
    "\n",
    "# Define the two steady state equations \n",
    "sshk = sm.Eq(k,(sk*k**alpha*h**phi-(n+g+delta+n*g)*k)/((1+n)*(1+g)))\n",
    "sshh = sm.Eq(h,(sh*k**alpha*h**phi-(n+g+delta+n*g)*h)/((1+n)*(1+g)))\n",
    "\n",
    "#Solving the steady state equations for k and h\n",
    "steady = sm.solve((sshk,sshh),(k,h))[0]\n",
    "display(steady)\n",
    "\n",
    "# checking the validity of the soloution for (0,0) for both k and h\n",
    "validity = sshk.subs([(k, 0), (h, 0)]) and sshh.subs([(k, 0), (h, 0)])\n",
    "print(validity)\n",
    "\n"
   ]
  },
  {
   "attachments": {},
   "cell_type": "markdown",
   "metadata": {},
   "source": [
    "Creates an error. Seems like python can't solve the problem analytically, and hence we proceed to solve the model numerically."
   ]
  },
  {
   "attachments": {},
   "cell_type": "markdown",
   "metadata": {},
   "source": [
    "# Numerical solution of the Solow model with human capital"
   ]
  },
  {
   "cell_type": "code",
   "execution_count": 16,
   "metadata": {},
   "outputs": [
    {
     "name": "stdout",
     "output_type": "stream",
     "text": [
      "Steady state value for k*: 0.455\n",
      "Steady state value for h*: 0.455\n"
     ]
    }
   ],
   "source": [
    "# Add the parametervalues not already defined \n",
    "sh, sk, phi = 0.1, 0.1, 1/3\n",
    "\n",
    "# Define the functions for k and h for the steady state\n",
    "def h_func(k, sh, sk, alpha, phi, delta, h, n, g):\n",
    "    return sh * k**alpha * h**phi + (1 - delta - n - g) * h - h\n",
    "\n",
    "def k_func(h, sh, sk, alpha, phi, delta, k, n, g):\n",
    "    return sk * k**alpha * h**phi + (1 - delta - n - g) * k - k\n",
    "\n",
    "# Define the objective function\n",
    "def obj(x, sh, sk, alpha, phi, delta, n, g):\n",
    "    k, h = x\n",
    "    return [h_func(k, sh, sk, alpha, phi, delta, h, n, g), k_func(h, sh, sk, alpha, phi, delta, k, n, g)]\n",
    "\n",
    "# Using the root solver\n",
    "sol = root(obj, [1, 1], args=(sh, sk, alpha, phi, delta, n, g))\n",
    "\n",
    "# Print the results for k and h\n",
    "steady_k, steady_h = sol.x\n",
    "print(f'Steady state value for k*: {steady_k:.3f}') \n",
    "print(f'Steady state value for h*: {steady_h:.3f}')\n"
   ]
  },
  {
   "attachments": {},
   "cell_type": "markdown",
   "metadata": {},
   "source": [
    "In this section we tried to determine if the analytical and numerical solutions were equal, but we encontered a problem where we could not obtain an exact value in the analytical solution only in the numerical solution. We obtained value of (0.0) in the analytical which indicates that our value h* and k* are in steady-state, we obtained an exact numerical value in the numerical solution where we have k*=0.455 and h*=0.455 in steady state."
   ]
  },
  {
   "attachments": {},
   "cell_type": "markdown",
   "metadata": {},
   "source": [
    "**Creating a phase diagram for the steady state values**"
   ]
  },
  {
   "cell_type": "code",
   "execution_count": 21,
   "metadata": {},
   "outputs": [
    {
     "data": {
      "text/plain": [
       "Text(0.5, 1.0, 'Phase Diagram')"
      ]
     },
     "execution_count": 21,
     "metadata": {},
     "output_type": "execute_result"
    },
    {
     "data": {
      "image/png": "[encoded data removed]",
      "text/plain": [
       "<Figure size 1300x500 with 1 Axes>"
      ]
     },
     "metadata": {},
     "output_type": "display_data"
    }
   ],
   "source": [
    "# Define function\n",
    "def ss(sh,sk,g,n,alpha,phi,delta):\n",
    "    # Grids\n",
    "    k_vec = np.linspace(1e-4,3,1000)\n",
    "\n",
    "    # Solve for in grid\n",
    "    # Create empty lists\n",
    "    h_vec_deltak0 = []\n",
    "    h_vec_deltah0 = []\n",
    "    \n",
    "    # Loop through values\n",
    "    for k in k_vec:\n",
    "        # Solve for delta_h=0\n",
    "        h = optimize.brentq(lambda h: -h_func(k, sh, sk, alpha, phi, delta, h, n, g), 1e-20, 50)\n",
    "        h_vec_deltah0.append(h)\n",
    "\n",
    "        # Solve for delta_k=0\n",
    "        h = optimize.brentq(lambda h: -k_func(h, sh, sk, alpha, phi, delta, k, n, g), 1e-20, 50)\n",
    "        h_vec_deltak0.append(h)\n",
    "\n",
    "    h_vec_deltah0 = np.array(h_vec_deltah0)\n",
    "    h_vec_deltak0 = np.array(h_vec_deltak0)\n",
    "\n",
    "    return k_vec, h_vec_deltak0, h_vec_deltah0\n",
    "\n",
    "# Solve the function\n",
    "k_vec, h_vec_deltak0, h_vec_deltah0 = ss(sh,sk,g,n,alpha,phi,delta)\n",
    "\n",
    "\n",
    "# Create the plot\n",
    "fig, ax = plt.subplots(figsize=(13, 5))\n",
    "ax.plot(k_vec, h_vec_deltak0, label=r'$\\Delta_k=0$')\n",
    "ax.plot(k_vec, h_vec_deltah0, label=r'$\\Delta_h=0$')\n",
    "ax.set_xlabel(r'$\\tilde{k}$')\n",
    "ax.set_ylabel(r'$\\tilde{h}$')\n",
    "ax.legend()\n",
    "\n",
    "# Steady state\n",
    "ax.scatter(sol.x[1], sol.x[0], color='black', s=80, zorder=2.5)\n",
    "\n",
    "# Draw lines to the axes\n",
    "ax.axvline(sol.x[1], ymax=0.7, color='gray', linestyle='--')\n",
    "ax.axhline(sol.x[0], xmax=0.7, color='gray', linestyle='--')\n",
    "\n",
    "# Add text to the plot\n",
    "ax.text(0.5, 0.5, r'$\\tilde{k}^*, \\tilde{h}^*$', fontsize=12)\n",
    "\n",
    "# Axis limits\n",
    "ax.set(xlim=(0, 1), ylim=(0, 1))\n",
    "\n",
    "# Title\n",
    "ax.set_title('Phase Diagram')\n"
   ]
  },
  {
   "attachments": {},
   "cell_type": "markdown",
   "metadata": {},
   "source": [
    "We use the brentq function to find the corresponding value of $k$ that maximize output. k_vec contains the possible value $k$, h_vec_deltak0 contais the value of $h$ that maximuze output when $\\Delta_k=0$ which mean change capital = 0, and h_vec_dealth0 contains the values of $h$ that maximize output when $\\Delta_h=0$ which mean labor = 0\n",
    "The phasediagram shows consistens results to numerical results. "
   ]
  },
  {
   "attachments": {},
   "cell_type": "markdown",
   "metadata": {},
   "source": [
    "**Now we look how an increase in savings in human capital affects the steady state, through a phase diagram**"
   ]
  },
  {
   "cell_type": "code",
   "execution_count": 22,
   "metadata": {},
   "outputs": [
    {
     "data": {
      "text/plain": [
       "Text(0.5, 1.0, 'Phase Diagram sh=0.13')"
      ]
     },
     "execution_count": 22,
     "metadata": {},
     "output_type": "execute_result"
    },
    {
     "data": {
      "image/png": "[encoded data removed]",
      "text/plain": [
       "<Figure size 1800x700 with 1 Axes>"
      ]
     },
     "metadata": {},
     "output_type": "display_data"
    }
   ],
   "source": [
    "# Define function with sh=0.13\n",
    "k_vec1,h_vec_deltak01, h_vec_deltah01 = ss(0.13,sk,g,n,alpha,phi,delta)\n",
    "\n",
    "# Create a plot\n",
    "fig2 = plt.figure(figsize=(18,7))\n",
    "ax = fig2.add_subplot(1,2,1)\n",
    "ax.plot(k_vec,h_vec_deltak0, label=r'$\\Delta \\tilde{k}=0$')\n",
    "ax.plot(k_vec,h_vec_deltah0, label=r'$\\Delta \\tilde{h}=0$')\n",
    "ax.plot(k_vec1,h_vec_deltah01, label=r'$\\Delta \\tilde{h}´=0$')\n",
    "ax.set_xlabel(r'$\\tilde{k}$')\n",
    "ax.set_ylabel(r'$\\tilde{h}$')\n",
    "ax.legend()\n",
    "\n",
    "# Plot the intersection point\n",
    "plt.scatter(sol.x[1],sol.x[0],color='black',s=80,zorder=2.5)\n",
    "\n",
    "# Adding locus\n",
    "plt.axvline(sol.x[1],ymax=0.7,color='gray',linestyle='--') \n",
    "plt.axhline(sol.x[0],xmax=0.7,color='gray',linestyle='--')\n",
    "\n",
    "# Text is added to the plot\n",
    "ax.text(0.5, 0.5, r'$\\tilde{k}^*, \\tilde{h}^*$', fontsize=12)\n",
    "ax.text(0.6, 0.75, r'$\\tilde{k}^*´, \\tilde{h}^*$´', fontsize=12)\n",
    "\n",
    "# The axis values are chosen\n",
    "ax.set(xlim=(0, 1.5), ylim=(0, 1.5)) \n",
    "\n",
    "# Title \n",
    "ax.set_title('Phase Diagram sh=0.13')"
   ]
  },
  {
   "attachments": {},
   "cell_type": "markdown",
   "metadata": {},
   "source": [
    "In this section we try to see what happens when the saving rate \"sh\" rises. The phasediagram shows both k and h rise of a results from higher \"sh\" value. The intuition behind this result is that an increase in savings in human capital improve the productivity of the workers, which then increase the return to physical capital, and hence increase investment in physical capital. These effects both improves the productivity which increases output, and hence increase the steady state values. We tried to make a point for the new intersection, but we didn't succeed."
   ]
  },
  {
   "attachments": {},
   "cell_type": "markdown",
   "metadata": {},
   "source": [
    "# Solow model with human capital, with a CES production function"
   ]
  },
  {
   "attachments": {},
   "cell_type": "markdown",
   "metadata": {},
   "source": [
    "**Solow model with human capital in a CES production function**"
   ]
  },
  {
   "attachments": {},
   "cell_type": "markdown",
   "metadata": {},
   "source": [
    "The Cobb-Douglas production function is a special case of the CES production function when $\\sigma$ = 1. When $\\sigma=0$ we have a Leontief production function, and when $\\sigma=\\infty$ we have a linear production function. In a CES production function we therefore have a $0<\\sigma<1$ and $1<\\sigma<\\infty$"
   ]
  },
  {
   "attachments": {},
   "cell_type": "markdown",
   "metadata": {},
   "source": [
    "We have the same variables as before:\n",
    "\n",
    "1. $K_t$ is physical capital\n",
    "2. $L_t$ is labour \n",
    "3. $A_t$ is technology \n",
    "4. $Y_t = F(K_t,H_t,A_tL_t)$ is GDP\n",
    "5. $S_t$ is savings\n",
    "6. $H_t$ is human capital"
   ]
  },
  {
   "attachments": {},
   "cell_type": "markdown",
   "metadata": {},
   "source": [
    "*CES production function with human capital*\n",
    "\n",
    "$$\n",
    "Y_t = \\left[\\alpha K_t^{\\frac{\\sigma-1}{\\sigma}} + \\phi H_t^{\\frac{\\sigma-1}{\\sigma}} + (1 - \\alpha - \\phi) (AL_t)^{\\frac{\\sigma-1}{\\sigma}}\\right]^{\\frac{\\sigma-1}{\\sigma}}\n",
    "$$\n",
    "\n",
    "\n",
    "*We have the same equations as before for the capital accumulation equations and the technological progress and labor force growth.*\n",
    "\n",
    "We still have these: \n",
    "*Physical capital pr. effective worker*\n",
    "\n",
    "$$ \\tilde{k}_t = \\frac{K_t}{A_{t}L_{t}} = \\frac{k_t}{A_t}$$\n",
    "\n",
    "*Human capital pr. effective worker*\n",
    "\n",
    "$$ \\tilde{h}_t = \\frac{H_t}{A_{t}L_{t}} = \\frac{h_t}{A_t}$$\n",
    "\n",
    "*Then with the new CES production function, we get GDP pr. effective worker as*\n",
    "\n",
    "$$ \\tilde{y}_t = \\frac{Y_t}{A_{t}L_{t}} = \\frac{y_t}{A_t} = \\left[\\alpha \\tilde{k}_{t}^{\\frac{\\sigma-1}{\\sigma}}+\\phi\\tilde{h}_{t}^{\\frac{\\sigma-1}{\\sigma}}+(1-\\alpha-\\phi)\\right]^{\\frac{\\sigma}{\\sigma-1}}\n",
    "$$\n",
    "\n",
    "*To achieve the transition equations, we then plot in the GDP pr. effective worker into these two capital accumulation equations*\n",
    "\n",
    "*Accumulation of physical capital* \n",
    "\n",
    "$$ K_{t+1} = s_KY_t+(1-\\delta)K_t, \\quad   0 < {\\delta} < 1 , \\quad \\text{where } K_0 \\text{ is given.}$$\n",
    "\n",
    "*Accumulation of human capital* \n",
    "\n",
    "$$ H_{t+1} = s_HY_t+(1-\\delta)H_t, \\quad  0 < {\\delta} < 1 , \\quad \\text{where } H_0 \\text{ is given.}$$\n",
    "\n",
    "*We then end up with the following transition equations*\n",
    "\n",
    "$$ \\tilde{k}_{t+1} = \\frac{1}{(1+n)(1+g)}\\left[s_K\\left[\\left[\\alpha \\tilde{k}_{t}^{\\frac{\\sigma-1}{\\sigma}}+\\phi \\tilde{h}_{t}^{\\frac{\\sigma-1}{\\sigma}}+(1-\\alpha-\\phi)\\right]^{\\frac{\\sigma}{\\sigma-1}}\\right]+(1-\\delta)\\tilde{k}_{t}\\right]\n",
    "$$\n",
    "\n",
    "$$ \\tilde{h}_{t+1} = \\frac{1}{(1+n)(1+g)}\\left[s_H\\left[\\left[\\alpha \\tilde{k}_{t}^{\\frac{\\sigma-1}{\\sigma}}+\\phi \\tilde{h}_{t}^{\\frac{\\sigma-1}{\\sigma}}+(1-\\alpha-\\phi)\\right]^{\\frac{\\sigma}{\\sigma-1}}\\right]+(1-\\delta)\\tilde{h}_{t}\\right]\n",
    "$$\n",
    "\n",
    "*Solow equation for physical capital*\n",
    "\n",
    "$$ \\tilde{k}_{t+1} - \\tilde{k}_{t}= \\frac{1}{(1+n)(1+g)}\\left[s_K\\left[\\left[\\alpha \\tilde{k}_{t}^{\\frac{\\sigma-1}{\\sigma}}+\\phi \\tilde{h}_{t}^{\\frac{\\sigma-1}{\\sigma}}+(1-\\alpha-\\phi)\\right]^{\\frac{\\sigma}{\\sigma-1}}\\right]-(n+g+\\delta+ng)\\tilde{k}_{t}\\right]\n",
    "$$\n",
    "\n",
    "*Solow equation for human capital*\n",
    "\n",
    "$$ \\tilde{h}_{t+1} - \\tilde{h}_{t}= \\frac{1}{(1+n)(1+g)}\\left[s_H\\left[\\left[\\alpha \\tilde{k}_{t}^{\\frac{\\sigma-1}{\\sigma}}+\\phi \\tilde{h}_{t}^{\\frac{\\sigma-1}{\\sigma}}+(1-\\alpha-\\phi)\\right]^{\\frac{\\sigma}{\\sigma-1}}\\right]-(n+g+\\delta+ng)\\tilde{h}_{t}\\right]\n",
    "$$\n",
    "\n",
    "*In steady state we know that $\\tilde{k}_{t+1}=\\tilde{k_t}=\\tilde{k^*}$ and $\\tilde{h}_{t+1}=\\tilde{h_t}=\\tilde{h^*}$ which implies that the left hand side of the two Solow equations equals zero*\n",
    "\n",
    "$$ 0 = \\frac{1}{(1+n)(1+g)}\\left[s_K\\left[\\left[\\alpha \\tilde{k}_{t}^{\\frac{\\sigma-1}{\\sigma}}+\\phi \\tilde{h}_{t}^{\\frac{\\sigma-1}{\\sigma}}+(1-\\alpha-\\phi)\\right]^{\\frac{\\sigma}{\\sigma-1}}\\right]-(n+g+\\delta+ng)\\tilde{k}_{t}\\right]\n",
    "$$\n",
    "\n",
    "$$ 0 = \\frac{1}{(1+n)(1+g)}\\left[s_H\\left[\\left[\\alpha \\tilde{k}_{t}^{\\frac{\\sigma-1}{\\sigma}}+\\phi \\tilde{h}_{t}^{\\frac{\\sigma-1}{\\sigma}}+(1-\\alpha-\\phi)\\right]^{\\frac{\\sigma}{\\sigma-1}}\\right]-(n+g+\\delta+ng)\\tilde{h}_{t}\\right]\n",
    "$$\n",
    "\n",
    "*From isolating we get the following steady state equations* \n",
    "\n",
    "$$ \\tilde{k^*} = \\left[\\frac{{1-\\alpha-\\phi}}{{\\left(\\frac{{n+g+\\delta}}{{s_K}}\\right)^{\\frac{{\\sigma-1}}{{\\sigma}}} - \\phi\\left(\\frac{{s_H}}{{s_K}}\\right)^{\\frac{{\\sigma-1}}{{\\sigma}}} - \\alpha}}\\right]^{\\frac{{\\sigma}}{{\\sigma-1}}} $$\n",
    "\n",
    "$$ \\tilde{h^*} = \\left[\\frac{{1-\\alpha-\\phi}}{{\\left(\\frac{{n+g+\\delta}}{{s_H}}\\right)^{\\frac{{\\sigma-1}}{{\\sigma}}} - \\alpha\\left(\\frac{{s_K}}{{s_H}}\\right)^{\\frac{{\\sigma-1}}{{\\sigma}}} - \\phi}}\\right]^{\\frac{{\\sigma}}{{\\sigma-1}}} $$\n",
    "\n"
   ]
  },
  {
   "attachments": {},
   "cell_type": "markdown",
   "metadata": {},
   "source": [
    "# Numerical Solution of the Solow Model with human capital, with a CES production function"
   ]
  },
  {
   "cell_type": "code",
   "execution_count": 10,
   "metadata": {},
   "outputs": [
    {
     "name": "stdout",
     "output_type": "stream",
     "text": [
      "The steady state for k is 0.481\n",
      "The steady state for h is 0.481\n"
     ]
    }
   ],
   "source": [
    "# Define the parameter values as used above, and a value for sigma \n",
    "s, g, n, delta, alpha, phi, sk, sh, sigma = 0.2, 0.02, 0.01, 0.1, 1/3, 1/3, 0.1, 0.1, 1.5\n",
    "\n",
    "# Define the transition equations \n",
    "def cestransition(vars):\n",
    "    kbar, hbar = vars\n",
    "    tces_k = ((1/((1+n)*(1+g)))*(sk*((alpha*kbar**((sigma-1)/sigma)+phi*hbar**((sigma-1)/(sigma))+(1-alpha-phi))**(sigma/(sigma-1)))-(n+g+delta+n*g)*kbar))\n",
    "    tces_h = ((1/((1+n)*(1+g)))*(sh*((alpha*hbar**((sigma-1)/sigma)+phi*kbar**((sigma-1)/(sigma))+(1-alpha-phi))**(sigma/(sigma-1)))-(n+g+delta+n*g)*hbar))\n",
    "    return [tces_k, tces_h]\n",
    "\n",
    "# Solve the equation system\n",
    "initial_guess = [0.1, 0.1]  # Initial guess for kbar and hbar\n",
    "solution = optimize.root(cestransition, initial_guess)\n",
    "\n",
    "# Extract the values of kbar and hbar from the solution\n",
    "kbar = solution.x[0]\n",
    "hbar = solution.x[1]\n",
    "\n",
    "print(f'The steady state for k is {round(kbar, 3)}')\n",
    "print(f'The steady state for h is {round(hbar, 3)}')\n"
   ]
  },
  {
   "attachments": {},
   "cell_type": "markdown",
   "metadata": {},
   "source": [
    "We then proceed to see how sigma is influencing the steady state values of k and h. We now that as $\\sigma$ approaches 1, we are moving towards a Cobb-Douglas production function, and as $\\sigma$ approaches 0, we are moving towards a Leontief production function. Therefore we set our sigma values above 1, to avoid issues with the steady state values. A higher $\\sigma$ value, implies easier substitution between factors, and vice versa for lower $\\sigma$. "
   ]
  },
  {
   "cell_type": "code",
   "execution_count": 38,
   "metadata": {},
   "outputs": [
    {
     "name": "stdout",
     "output_type": "stream",
     "text": [
      "The steady state for k* (when sigma=1.25) is 0.100\n",
      "The steady state for h* (when sigma=1.25) is 0.100\n",
      "\n",
      "The steady state for k* (when sigma=1.5) is 0.481\n",
      "The steady state for h* (when sigma=1.5) is 0.481\n",
      "\n",
      "The steady state for k* (when sigma=1.75) is 0.489\n",
      "The steady state for h* (when sigma=1.75) is 0.489\n",
      "\n"
     ]
    },
    {
     "name": "stderr",
     "output_type": "stream",
     "text": [
      "/var/folders/tr/r80xfl3j0_j5bsdrblc1w4v80000gn/T/ipykernel_36737/25813863.py:4: RuntimeWarning: invalid value encountered in double_scalars\n",
      "  tces_k = ((1/((1+n)*(1+g)))*(sk*((alpha*kbar**((sigma-1)/sigma)+phi*hbar**((sigma-1)/(sigma))+(1-alpha-phi))**(sigma/(sigma-1)))-(n+g+delta+n*g)*kbar))\n",
      "/var/folders/tr/r80xfl3j0_j5bsdrblc1w4v80000gn/T/ipykernel_36737/25813863.py:5: RuntimeWarning: invalid value encountered in double_scalars\n",
      "  tces_h = ((1/((1+n)*(1+g)))*(sh*((alpha*hbar**((sigma-1)/sigma)+phi*kbar**((sigma-1)/(sigma))+(1-alpha-phi))**(sigma/(sigma-1)))-(n+g+delta+n*g)*hbar))\n"
     ]
    }
   ],
   "source": [
    "from tabulate import tabulate\n",
    "\n",
    "# Define the transition equations\n",
    "def equations(vars, sigma):\n",
    "    kbar, hbar = vars\n",
    "    tces_k = ((1/((1+n)*(1+g)))*(sk*((alpha*kbar**((sigma-1)/sigma)+phi*hbar**((sigma-1)/(sigma))+(1-alpha-phi))**(sigma/(sigma-1)))-(n+g+delta+n*g)*kbar))\n",
    "    tces_h = ((1/((1+n)*(1+g)))*(sh*((alpha*hbar**((sigma-1)/sigma)+phi*kbar**((sigma-1)/(sigma))+(1-alpha-phi))**(sigma/(sigma-1)))-(n+g+delta+n*g)*hbar))\n",
    "    return [tces_k, tces_h]\n",
    "\n",
    "# Define the sigma values to loop through\n",
    "sigma_values = np.array([1.25, 1.5, 1.75])\n",
    "\n",
    "# Solve the equation system for each sigma value\n",
    "for sigma in sigma_values:\n",
    "    # Solve the equation system\n",
    "    initial_guess = [0.1, 0.1]  # Initial guess for kbar and hbar\n",
    "    solution = optimize.root(equations, initial_guess, args=(sigma,))\n",
    "\n",
    "    # Extract the values of kbar and hbar from the solution\n",
    "    kbar = solution.x[0]\n",
    "    hbar = solution.x[1]\n",
    "\n",
    "    print(f\"The steady state for k* (when sigma={sigma}) is {kbar:.3f}\")\n",
    "    print(f\"The steady state for h* (when sigma={sigma}) is {hbar:.3f}\")\n",
    "    print()\n"
   ]
  },
  {
   "attachments": {},
   "cell_type": "markdown",
   "metadata": {},
   "source": [
    "From the result above, we can see that there seems to be a problem with convergence when $\\sigma$<1.5. For that reason we try to investigate our solution function, to check whether the solver can find a steady state solution for $\\sigma$ in the interval [0.1;2.5]."
   ]
  },
  {
   "cell_type": "code",
   "execution_count": 48,
   "metadata": {},
   "outputs": [
    {
     "name": "stdout",
     "output_type": "stream",
     "text": [
      "Sigma: 0.10 | Solution Status: True\n",
      "Sigma: 0.23 | Solution Status: False\n",
      "Sigma: 0.35 | Solution Status: False\n",
      "Sigma: 0.48 | Solution Status: False\n",
      "Sigma: 0.61 | Solution Status: False\n",
      "Sigma: 0.73 | Solution Status: False\n",
      "Sigma: 0.86 | Solution Status: False\n",
      "Sigma: 0.98 | Solution Status: False\n",
      "Sigma: 1.11 | Solution Status: False\n",
      "Sigma: 1.24 | Solution Status: False\n",
      "Sigma: 1.36 | Solution Status: False\n",
      "Sigma: 1.49 | Solution Status: True\n",
      "Sigma: 1.62 | Solution Status: True\n",
      "Sigma: 1.74 | Solution Status: True\n",
      "Sigma: 1.87 | Solution Status: True\n",
      "Sigma: 1.99 | Solution Status: True\n",
      "Sigma: 2.12 | Solution Status: True\n",
      "Sigma: 2.25 | Solution Status: True\n",
      "Sigma: 2.37 | Solution Status: True\n",
      "Sigma: 2.50 | Solution Status: True\n"
     ]
    },
    {
     "name": "stderr",
     "output_type": "stream",
     "text": [
      "/var/folders/tr/r80xfl3j0_j5bsdrblc1w4v80000gn/T/ipykernel_36737/3306576565.py:4: RuntimeWarning: invalid value encountered in double_scalars\n",
      "  tces_k = ((1/((1+n)*(1+g)))*(sk*((alpha*kbar**((sigma-1)/sigma)+phi*hbar**((sigma-1)/(sigma))+(1-alpha-phi))**(sigma/(sigma-1)))-(n+g+delta+n*g)*kbar))\n",
      "/var/folders/tr/r80xfl3j0_j5bsdrblc1w4v80000gn/T/ipykernel_36737/3306576565.py:5: RuntimeWarning: invalid value encountered in double_scalars\n",
      "  tces_h = ((1/((1+n)*(1+g)))*(sh*((alpha*hbar**((sigma-1)/sigma)+phi*kbar**((sigma-1)/(sigma))+(1-alpha-phi))**(sigma/(sigma-1)))-(n+g+delta+n*g)*hbar))\n",
      "/var/folders/tr/r80xfl3j0_j5bsdrblc1w4v80000gn/T/ipykernel_36737/3306576565.py:4: RuntimeWarning: overflow encountered in double_scalars\n",
      "  tces_k = ((1/((1+n)*(1+g)))*(sk*((alpha*kbar**((sigma-1)/sigma)+phi*hbar**((sigma-1)/(sigma))+(1-alpha-phi))**(sigma/(sigma-1)))-(n+g+delta+n*g)*kbar))\n",
      "/var/folders/tr/r80xfl3j0_j5bsdrblc1w4v80000gn/T/ipykernel_36737/3306576565.py:5: RuntimeWarning: overflow encountered in double_scalars\n",
      "  tces_h = ((1/((1+n)*(1+g)))*(sh*((alpha*hbar**((sigma-1)/sigma)+phi*kbar**((sigma-1)/(sigma))+(1-alpha-phi))**(sigma/(sigma-1)))-(n+g+delta+n*g)*hbar))\n"
     ]
    }
   ],
   "source": [
    "# Define the transition equations\n",
    "def equations(vars, sigma):\n",
    "    kbar, hbar = vars\n",
    "    tces_k = ((1/((1+n)*(1+g)))*(sk*((alpha*kbar**((sigma-1)/sigma)+phi*hbar**((sigma-1)/(sigma))+(1-alpha-phi))**(sigma/(sigma-1)))-(n+g+delta+n*g)*kbar))\n",
    "    tces_h = ((1/((1+n)*(1+g)))*(sh*((alpha*hbar**((sigma-1)/sigma)+phi*kbar**((sigma-1)/(sigma))+(1-alpha-phi))**(sigma/(sigma-1)))-(n+g+delta+n*g)*hbar))\n",
    "    return [tces_k, tces_h]\n",
    "\n",
    "# Define the sigma values to loop through\n",
    "sigma_values_convergence = np.linspace(0.1, 2.5, 20)\n",
    "\n",
    "# Solve the equation system for each sigma value\n",
    "# Create empty lists for the kbar and hbar values\n",
    "kbar_values = []\n",
    "hbar_values = []\n",
    "for sigma in sigma_values_convergence:\n",
    "    # Solve the equation system\n",
    "    initial_guess = [0.1, 0.1]  # Initial guess for kbar and hbar\n",
    "    solution = optimize.root(equations, initial_guess, args=(sigma,))\n",
    "\n",
    "    # Extract the values of kbar and hbar from the solution\n",
    "    kbar_con = solution.x[0]\n",
    "    hbar_con = solution.x[1]\n",
    "    \n",
    "    # Append the results to the lists\n",
    "    kbar_values.append(kbar)\n",
    "    hbar_values.append(hbar)\n",
    "\n",
    "# Print to see if the solution converges\n",
    "    print(f\"Sigma: {sigma:.2f} | Solution Status: {solution.success}\")"
   ]
  },
  {
   "attachments": {},
   "cell_type": "markdown",
   "metadata": {},
   "source": [
    "From the output, it seems as there is no convergence for $\\sigma$ values less than 1.5, and hence we look how the steady state value of k and h, depends on $\\sigma$, with $\\sigma$ [1.5;2.5]. This could also have been plotted, which would have shown a sudden jump in the steady state values."
   ]
  },
  {
   "cell_type": "code",
   "execution_count": 49,
   "metadata": {},
   "outputs": [
    {
     "data": {
      "image/png": "[encoded data removed]",
      "text/plain": [
       "<Figure size 640x480 with 1 Axes>"
      ]
     },
     "metadata": {},
     "output_type": "display_data"
    }
   ],
   "source": [
    "# We continue with the same parametervalues as defined earlier\n",
    "\n",
    "# Define the transition equations\n",
    "def equations(vars, sigma):\n",
    "    kbar, hbar = vars\n",
    "    tces_k = ((1/((1+n)*(1+g)))*(sk*((alpha*kbar**((sigma-1)/sigma)+phi*hbar**((sigma-1)/(sigma))+(1-alpha-phi))**(sigma/(sigma-1)))-(n+g+delta+n*g)*kbar))\n",
    "    tces_h = ((1/((1+n)*(1+g)))*(sh*((alpha*hbar**((sigma-1)/sigma)+phi*kbar**((sigma-1)/(sigma))+(1-alpha-phi))**(sigma/(sigma-1)))-(n+g+delta+n*g)*hbar))\n",
    "    return [tces_k, tces_h]\n",
    "\n",
    "# Define the sigma values to loop through\n",
    "sigma_values = np.linspace(1.5, 2.5, 50)\n",
    "\n",
    "# Solve the equation system for each sigma value\n",
    "# Create empty lists for the kbar and hbar values\n",
    "kbar_values = []\n",
    "hbar_values = []\n",
    "for sigma in sigma_values:\n",
    "    # Solve the equation system\n",
    "    initial_guess = [0.1, 0.1]  # Initial guess for kbar and hbar\n",
    "    solution = optimize.root(equations, initial_guess, args=(sigma,))\n",
    "\n",
    "    # Extract the values of kbar and hbar from the solution\n",
    "    kbar = solution.x[0]\n",
    "    hbar = solution.x[1]\n",
    "    # Append the results to the lists\n",
    "    kbar_values.append(kbar)\n",
    "    hbar_values.append(hbar)\n",
    "\n",
    "# Plot kbar as crosses and hbar as a line against sigma, to be able to see both variables in the plot\n",
    "plt.plot(sigma_values, kbar_values, 'x', label='k*')\n",
    "plt.plot(sigma_values, hbar_values, label='h*')\n",
    "plt.xlabel('$\\sigma$')\n",
    "plt.ylabel('k* and h*')\n",
    "plt.title('Steady State Values for k* and h* for varying $\\sigma$')\n",
    "plt.legend()\n",
    "plt.grid(True)\n",
    "plt.show()\n"
   ]
  },
  {
   "attachments": {},
   "cell_type": "markdown",
   "metadata": {},
   "source": [
    "From the graph we see that the steady state values for k and h is increasing in sigma. The intuition behind this result, is that when $\\sigma$ increases, the substitutability between the factors enhances, and hence improve ressource allocation, and thereby increase productivity and total output."
   ]
  },
  {
   "attachments": {},
   "cell_type": "markdown",
   "metadata": {},
   "source": [
    "Now, we check if the results from the numerical solution, is equal to the computed solution using the Solow equations. Again we check for different $\\sigma$ values. We chech for more $\\sigma$ values, to get a graph that looks like the one above."
   ]
  },
  {
   "cell_type": "code",
   "execution_count": 50,
   "metadata": {},
   "outputs": [
    {
     "name": "stdout",
     "output_type": "stream",
     "text": [
      "The steady state for k* (sigma=1.25) is 0.471\n",
      "The steady state for h* (sigma=1.25) is 0.471\n",
      "\n",
      "The steady state for k* (sigma=1.5) is 0.481\n",
      "The steady state for h* (sigma=1.5) is 0.481\n",
      "\n",
      "The steady state for k* (sigma=1.75) is 0.489\n",
      "The steady state for h* (sigma=1.75) is 0.489\n",
      "\n",
      "The steady state for k* (sigma=2.0) is 0.494\n",
      "The steady state for h* (sigma=2.0) is 0.494\n",
      "\n"
     ]
    }
   ],
   "source": [
    "# Define the sigma values to compute tces_sk and tces_sh\n",
    "sigma_solow = np.array([1.25, 1.50, 1.75, 2.00])\n",
    "\n",
    "# Compute tces_sk and tces_sh for each sigma value\n",
    "# Create empty lists\n",
    "tces_sk_values = []\n",
    "tces_sh_values = []\n",
    "# Loop through the sigma values \n",
    "for sigma in sigma_solow:\n",
    "    tces_sk = ((1-alpha-phi)/(((n+g+delta+n*g)/sh)**((sigma-1)/sigma)-phi*(sh/sk)**((sigma-1)/sigma)-alpha))**(sigma/(sigma-1))\n",
    "    tces_sh = ((1-alpha-phi)/(((n+g+delta+n*g)/sh)**((sigma-1)/sigma)-alpha*(sk/sh)**((sigma-1)/sigma)-phi))**(sigma/(sigma-1))\n",
    "    # Append the values to the empty lists\n",
    "    tces_sk_values.append(tces_sk)\n",
    "    tces_sh_values.append(tces_sh)\n",
    "\n",
    "# Print the computed values for tces_sk and tces_sh\n",
    "for i, sigma in enumerate(sigma_solow):\n",
    "    print(f\"The steady state for k* (sigma={sigma}) is {tces_sk_values[i]:.3f}\")\n",
    "    print(f\"The steady state for h* (sigma={sigma}) is {tces_sh_values[i]:.3f}\")\n",
    "    print()\n"
   ]
  },
  {
   "attachments": {},
   "cell_type": "markdown",
   "metadata": {},
   "source": [
    "We notice, that it is the same steady state values as with the numerical solutions. We then plot the steady state values for a vector of $\\sigma$ values."
   ]
  },
  {
   "cell_type": "code",
   "execution_count": 51,
   "metadata": {},
   "outputs": [
    {
     "data": {
      "image/png": "[encoded data removed]",
      "text/plain": [
       "<Figure size 640x480 with 1 Axes>"
      ]
     },
     "metadata": {},
     "output_type": "display_data"
    }
   ],
   "source": [
    "\n",
    "# Define the sigma values to compute tces_sk and tces_sh\n",
    "sigma_values = np.array([1.25, 1.5, 1.75, 2.0,2.25])\n",
    "\n",
    "# Compute tces_sk and tces_sh for each sigma value\n",
    "tces_sk_values = []\n",
    "tces_sh_values = []\n",
    "for sigma in sigma_values:\n",
    "    tces_sk = ((1-alpha-phi)/(((n+g+delta+n*g)/sh)**((sigma-1)/sigma)-phi*(sh/sk)**((sigma-1)/sigma)-alpha))**(sigma/(sigma-1))\n",
    "    tces_sh = ((1-alpha-phi)/(((n+g+delta+n*g)/sh)**((sigma-1)/sigma)-alpha*(sk/sh)**((sigma-1)/sigma)-phi))**(sigma/(sigma-1))\n",
    "    tces_sk_values.append(tces_sk)\n",
    "    tces_sh_values.append(tces_sh)\n",
    "\n",
    "# Plot tces_sk and tces_sh against sigma\n",
    "plt.plot(sigma_values, tces_sk_values, 'X', label='k*')\n",
    "plt.plot(sigma_values, tces_sh_values, label='h*')\n",
    "plt.xlabel('$\\sigma$')\n",
    "plt.ylabel('k* and h*')\n",
    "plt.title('Steady State Values for k* and h* for varying $\\sigma$')\n",
    "plt.legend()\n",
    "plt.grid(True)\n",
    "plt.show()\n"
   ]
  },
  {
   "attachments": {},
   "cell_type": "markdown",
   "metadata": {},
   "source": [
    "Again we notice that this gives us the same results as before. The figure is uneven, because we have discrete values."
   ]
  }
 ],
 "metadata": {
  "kernelspec": {
   "display_name": "base",
   "language": "python",
   "name": "python3"
  },
  "language_info": {
   "codemirror_mode": {
    "name": "ipython",
    "version": 3
   },
   "file_extension": ".py",
   "mimetype": "text/x-python",
   "name": "python",
   "nbconvert_exporter": "python",
   "pygments_lexer": "ipython3",
   "version": "3.9.13"
  },
  "orig_nbformat": 4,
  "vscode": {
   "interpreter": {
    "hash": "395cfe66a96c6d6611eeb5d9af212bfcd050b597e4cde2dd04fc8d387f6eca21"
   }
  }
 },
 "nbformat": 4,
 "nbformat_minor": 2
}
